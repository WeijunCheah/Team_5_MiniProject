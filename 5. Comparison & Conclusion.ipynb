{
 "cells": [
  {
   "cell_type": "markdown",
   "id": "ba8738e3",
   "metadata": {},
   "source": [
    "# Performance Metric for Logistic Regression"
   ]
  },
  {
   "cell_type": "markdown",
   "id": "edbcecd8",
   "metadata": {},
   "source": [
    "F1 Score: 0.790  \n",
    "AUC score: 0.796  \n",
    "Acurracy : 0.796  \n",
    "\n",
    "True Positive Rate (TPR): 0.7650332225913621  \n",
    "False Positive Rate (FPR): 0.1734531105700613  \n",
    "True Negative Rate (TNR): 0.8265468894299387  \n",
    "False Negative Rate (FNR): 0.23496677740863786  \n",
    "\n",
    "Top 4 variables: job_unemployed, job_technician, job_services, job_self-employed"
   ]
  },
  {
   "cell_type": "markdown",
   "id": "3630debc",
   "metadata": {},
   "source": [
    "# Performance Metrics for Random Forest"
   ]
  },
  {
   "cell_type": "markdown",
   "id": "2727fd14",
   "metadata": {},
   "source": [
    "F1 Score: 0.794  \n",
    "AUC score: 0.804   \n",
    "Acurracy : 0.804   \n",
    "\n",
    "True Positive Rate (TPR): 0.8193633952254642   \n",
    "False Positive Rate (FPR): 0.21936555652242704   \n",
    "True Negative Rate (TNR): 0.7806344434775729  \n",
    "False Negative Rate (FNR): 0.1806366047745358     \n",
    "\n",
    "Top 4 variables: housing_yes, job_blue-collar, loan_yes, marital_married"
   ]
  },
  {
   "cell_type": "markdown",
   "id": "c2de6109",
   "metadata": {},
   "source": [
    "# Performance Metrics for XGBoost"
   ]
  },
  {
   "cell_type": "markdown",
   "id": "19d3834e",
   "metadata": {},
   "source": [
    "F1 Score: 0.280     \n",
    "AUC: 0.668    \n",
    "Accuracy: 0.820     \n",
    "\n",
    "True Positive Rate (TPR): 0.29162833486660533  \n",
    "False Positive Rate (FPR): 0.10773098680075424   \n",
    "True Negative Rate (TNR): 0.8922690131992458   \n",
    "False Negative Rate (FNR): 0.7083716651333947 \n",
    "\n",
    "Top 4 Variables: housing_yes, job_blue-collar, loan_yes, job_housemaid"
   ]
  },
  {
   "cell_type": "markdown",
   "id": "4433dd54",
   "metadata": {},
   "source": [
    "# Conclusion "
   ]
  },
  {
   "cell_type": "markdown",
   "id": "b4e2f8a5",
   "metadata": {},
   "source": [
    "By comparing between Logistic Regression, Random Forest and XGBoost, we can conclude that Random Forest is the best model in predicting whether a future customer will made a term deposit.\n",
    "\n",
    "The higher F1 score of the Random Forest model implies a better balance between precision and sensitivity, especially for dataset with imbalanced class distributions such as deposit=0 significantly outweigh deposit=1. Additionally, its higher AUC score indicates improved discriminative ability, enhancing its capability to distinguish between positive and negative instances.   \n",
    "\n",
    "Random forest has higher True Positive Rate (TPR) signifies a greater probability to correctly identify positive instances of whether a customer will make a term deposit, which is crucial in marketing campaigns to maximise the success rate.\n",
    "\n",
    "Random Forest's strengths lie in its ability to effectively handle non-linear relationships between features while minimising the risk of overfitting, making it as a robust algorithm."
   ]
  },
  {
   "cell_type": "markdown",
   "id": "6d2d7d75",
   "metadata": {},
   "source": [
    "Hence, the deposit marketing campaign should focus on customers with house loan, personal loan and work as a blue-collar or is a housemaid. By focusing more on these groups of customer, the success rate of the campaign will increase and more customers will made a deposit."
   ]
  },
  {
   "cell_type": "markdown",
   "id": "44c9b031",
   "metadata": {},
   "source": [
    "# Note"
   ]
  },
  {
   "cell_type": "markdown",
   "id": "17a65f48",
   "metadata": {},
   "source": [
    "The difference in the top 4 variables between the logistic regression model and the random forest model arises from their difference in modeling methodology and feature evaluation. \n",
    "\n",
    "Logistic regression, being a linear model, assesses feature importance based on the magnitude of coefficients assigned to each variable. This method emphasizes variables with strong linear relationships to the outcome of deposit but may overlook complex nonlinear patterns. \n",
    "\n",
    "On the other hand, random forest evaluates feature importance by measuring the decrease in impurity across all trees. This approach is better at capturing non-linear relationships and interactions among the variables, providing a more comprehensive understanding of the data. "
   ]
  },
  {
   "cell_type": "markdown",
   "id": "21a8ba0b",
   "metadata": {},
   "source": [
    "# Link Back to EDA"
   ]
  },
  {
   "cell_type": "code",
   "execution_count": null,
   "id": "7f5eed48",
   "metadata": {},
   "outputs": [],
   "source": []
  }
 ],
 "metadata": {
  "kernelspec": {
   "display_name": "Python 3 (ipykernel)",
   "language": "python",
   "name": "python3"
  },
  "language_info": {
   "codemirror_mode": {
    "name": "ipython",
    "version": 3
   },
   "file_extension": ".py",
   "mimetype": "text/x-python",
   "name": "python",
   "nbconvert_exporter": "python",
   "pygments_lexer": "ipython3",
   "version": "3.11.5"
  }
 },
 "nbformat": 4,
 "nbformat_minor": 5
}
