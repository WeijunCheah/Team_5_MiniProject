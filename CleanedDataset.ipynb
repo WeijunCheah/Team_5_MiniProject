{
 "cells": [
  {
   "cell_type": "code",
   "execution_count": null,
   "id": "9c2530d4",
   "metadata": {},
   "outputs": [],
   "source": [
    "import pandas as pd\n",
    "import numpy as np\n",
    "import seaborn as sb\n",
    "import matplotlib.pyplot as plt"
   ]
  },
  {
   "cell_type": "code",
   "execution_count": null,
   "id": "06d81843",
   "metadata": {},
   "outputs": [],
   "source": [
    "bankdata = pd.read_csv('Bank Target Marketing Dataset.csv')"
   ]
  },
  {
   "cell_type": "code",
   "execution_count": null,
   "id": "230f29fd",
   "metadata": {},
   "outputs": [],
   "source": [
    "print(\"Data type: \", type(bankdata))\n",
    "print(\"Data dims: \", bankdata.shape)\n",
    "bankdata.head()"
   ]
  },
  {
   "cell_type": "code",
   "execution_count": null,
   "id": "20284698",
   "metadata": {},
   "outputs": [],
   "source": [
    "bankdata.info()"
   ]
  },
  {
   "cell_type": "markdown",
   "id": "593e6112",
   "metadata": {},
   "source": [
    "# Check for null value"
   ]
  },
  {
   "cell_type": "code",
   "execution_count": null,
   "id": "741b88c0",
   "metadata": {},
   "outputs": [],
   "source": [
    "check = bankdata.isnull().values.any()\n",
    "print(check)\n",
    "nullcol = pd.isnull(bankdata)\n",
    "nullnum = nullcol.sum()\n",
    "print(\"Count of missing values in the data:\")\n",
    "print(nullnum)"
   ]
  },
  {
   "cell_type": "markdown",
   "id": "7fde0aaf",
   "metadata": {},
   "source": [
    "Hence, there are no null values in the dataset that have to be eliminated"
   ]
  },
  {
   "cell_type": "markdown",
   "id": "254ad626",
   "metadata": {},
   "source": [
    "## Check if there is a conflict between pdays and previous"
   ]
  },
  {
   "cell_type": "code",
   "execution_count": null,
   "id": "c8e736d6",
   "metadata": {},
   "outputs": [],
   "source": [
    "a = bankdata[(bankdata['pdays'] == -1) & (bankdata['previous'] != 0)]\n",
    "print(a)"
   ]
  },
  {
   "cell_type": "markdown",
   "id": "464e89d4",
   "metadata": {},
   "source": [
    "# Check for useless column"
   ]
  },
  {
   "cell_type": "code",
   "execution_count": null,
   "id": "fad16476",
   "metadata": {},
   "outputs": [],
   "source": [
    "bankdata.describe()"
   ]
  },
  {
   "cell_type": "code",
   "execution_count": null,
   "id": "4f3e675b",
   "metadata": {},
   "outputs": [],
   "source": [
    "catcols = ['job','marital','education','default','housing','loan','contact','month','poutcome','deposit']\n",
    "print(\"Categorical column\")\n",
    "for col in catcols:\n",
    "    print(col,\":\", len(bankdata[col].unique()))"
   ]
  },
  {
   "cell_type": "markdown",
   "id": "9a998035",
   "metadata": {},
   "source": [
    "All numerical columns have different values and all categorical columns have at least 2 levels. Hence, all columns are relevant."
   ]
  },
  {
   "cell_type": "markdown",
   "id": "4def5de0",
   "metadata": {},
   "source": [
    "# Check for duplicated rows"
   ]
  },
  {
   "cell_type": "code",
   "execution_count": null,
   "id": "088e2a21",
   "metadata": {},
   "outputs": [],
   "source": [
    "before = len(bankdata)\n",
    "print(\"Number of rows before removing: \", before)\n",
    "duplicates = bankdata.duplicated()\n",
    "duplicates"
   ]
  },
  {
   "cell_type": "code",
   "execution_count": null,
   "id": "ccb18df6",
   "metadata": {},
   "outputs": [],
   "source": [
    "bankdata.drop_duplicates(inplace=True)\n",
    "after = len(bankdata)\n",
    "print(\"Number of rows after removing: \", after)\n",
    "bankdata"
   ]
  },
  {
   "cell_type": "code",
   "execution_count": null,
   "id": "f7994343",
   "metadata": {},
   "outputs": [],
   "source": [
    "print(\"Number of duplicated rows: \", before-after)"
   ]
  },
  {
   "cell_type": "code",
   "execution_count": null,
   "id": "71a66577",
   "metadata": {},
   "outputs": [],
   "source": [
    "bankdata.info()"
   ]
  },
  {
   "cell_type": "markdown",
   "id": "2f123773",
   "metadata": {},
   "source": [
    "There are 11162 of duplicated rows being removed"
   ]
  },
  {
   "cell_type": "markdown",
   "id": "48fbf911",
   "metadata": {},
   "source": [
    "# Check for outliers"
   ]
  },
  {
   "cell_type": "code",
   "execution_count": null,
   "id": "6dc857d2",
   "metadata": {
    "scrolled": false
   },
   "outputs": [],
   "source": [
    "numcols = pd.DataFrame(bankdata[['age','balance','day','duration','campaign','pdays','previous']])\n",
    "f, axes = plt.subplots(7, 1, figsize=(10,27))\n",
    "count=0\n",
    "for var in numcols:\n",
    "    sb.boxplot(data=numcols[var], orient=\"h\", ax=axes[count])\n",
    "    axes[count].set_title(var)\n",
    "    count+=1\n",
    "plt.subplots_adjust(hspace=0.6)"
   ]
  },
  {
   "cell_type": "markdown",
   "id": "195d6bf2",
   "metadata": {},
   "source": [
    "age : remove values greater than 100 or smaller than 0\n",
    "balance : -ve?\n",
    "day : remove values greater than 31 or smaller than 0\n",
    "duration : remove values smaller than 0\n",
    "campaign : \n",
    "pdays : -\n",
    "previous : remove extreme value"
   ]
  },
  {
   "cell_type": "code",
   "execution_count": null,
   "id": "7e369955",
   "metadata": {},
   "outputs": [],
   "source": [
    "# Eliminate rows with age > 100 and age < 18\n",
    "\n",
    "print('Size of the dataset before eliminate the rows of age : ', bankdata.shape)\n",
    "bankdata = bankdata[(bankdata['age']<=100) & (bankdata['age'] >= 18)]\n",
    "print('Size of the datase after eliminate the rows of age : ', bankdata.shape)"
   ]
  },
  {
   "cell_type": "code",
   "execution_count": null,
   "id": "39dd9208",
   "metadata": {},
   "outputs": [],
   "source": [
    "# Eliminate rows with duration < 0\n",
    "\n",
    "print('Size of the dataset before eliminate the rows of duration: ', bankdata.shape)\n",
    "bankdata = bankdata[bankdata['duration']>0] \n",
    "print('Size of the dataset after eliminate the rows of duration: ', bankdata.shape)"
   ]
  },
  {
   "cell_type": "code",
   "execution_count": null,
   "id": "af8bf45f",
   "metadata": {},
   "outputs": [],
   "source": [
    "# Eliminate the rows with previous > 100\n",
    "\n",
    "print('Size of the dataset before eliminate the rows of previous: ', bankdata.shape)\n",
    "bankdata = bankdata[bankdata['previous']<=100] \n",
    "print('Size of the dataset after eliminate the rows of previous: ', bankdata.shape)"
   ]
  }
 ],
 "metadata": {
  "kernelspec": {
   "display_name": "Python 3 (ipykernel)",
   "language": "python",
   "name": "python3"
  },
  "language_info": {
   "codemirror_mode": {
    "name": "ipython",
    "version": 3
   },
   "file_extension": ".py",
   "mimetype": "text/x-python",
   "name": "python",
   "nbconvert_exporter": "python",
   "pygments_lexer": "ipython3",
   "version": "3.11.5"
  }
 },
 "nbformat": 4,
 "nbformat_minor": 5
}
