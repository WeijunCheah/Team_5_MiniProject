{
 "cells": [
  {
   "cell_type": "markdown",
   "id": "be773a21",
   "metadata": {},
   "source": [
    "# Performance Metric for Logistic Regression"
   ]
  },
  {
   "cell_type": "markdown",
   "id": "385d6cd4",
   "metadata": {},
   "source": [
    "F1 Score: 0.790  \n",
    "AUC score: 0.796  \n",
    "Acurracy : 0.796  \n",
    "\n",
    "True Positive Rate (TPR): 0.7650332225913621  \n",
    "False Positive Rate (FPR): 0.1734531105700613  \n",
    "True Negative Rate (TNR): 0.8265468894299387  \n",
    "False Negative Rate (FNR): 0.23496677740863786  \n",
    "\n",
    "Top 3 variables: job_technician, job_services, job_self-employed"
   ]
  },
  {
   "cell_type": "markdown",
   "id": "c32f9f67",
   "metadata": {},
   "source": [
    "# Performance Metrics for Random Forest"
   ]
  },
  {
   "cell_type": "markdown",
   "id": "c685b268",
   "metadata": {},
   "source": [
    "F1 Score: 0.773  \n",
    "AUC score: 0.804  \n",
    "Acurracy : 0.804  \n",
    "\n",
    "True Positive Rate (TPR): 0.7588743204349216  \n",
    "False Positive Rate (FPR): 0.22266888053832037  \n",
    "True Negative Rate (TNR): 0.7773311194616797  \n",
    "False Negative Rate (FNR): 0.24112567956507835  \n",
    "\n",
    "Top 3 variables: housing_yes, job_blue-collar, marital_married"
   ]
  },
  {
   "cell_type": "markdown",
   "id": "852ea11e",
   "metadata": {},
   "source": [
    "# Performance Metrics for XGBoost"
   ]
  },
  {
   "cell_type": "markdown",
   "id": "3922a0b0",
   "metadata": {},
   "source": [
    "F1 Score: 0.280     \n",
    "AUC: 0.668    \n",
    "Accuracy: 0.820     \n",
    "\n",
    "True Positive Rate (TPR): 0.29162833486660533  \n",
    "False Positive Rate (FPR): 0.10773098680075424   \n",
    "True Negative Rate (TNR): 0.8922690131992458   \n",
    "False Negative Rate (FNR): 0.7083716651333947 \n",
    "\n",
    "Top 3 Variables: housing_yes, job_blue-collar, loan_yes"
   ]
  },
  {
   "cell_type": "markdown",
   "id": "44c5bdcc",
   "metadata": {},
   "source": [
    "By comparing between Logistic Regression, Random Forest and XGBoost, we can conclude that Random Forest is the best model in predicting whether a future customer will made a term deposit. This is because Random forest has the highest F1 score and AUC score, indicating better overall performance in terms of both precision and the ability to distinguish between the positive and negative classes. While accuracy is an important metric, it may not always provide a complete picture, especially in the case of imbalanced datasets where deposit=0 significantly outweight seposit=1. However, Random Forest still has the highest accuracy among the three models.\n",
    "\n",
    "Hence, we can conclude that the bank marketing campaign can focus on customers with housing loan, personal loan and also work as a blue-collar."
   ]
  },
  {
   "cell_type": "code",
   "execution_count": null,
   "id": "84412e64",
   "metadata": {},
   "outputs": [],
   "source": []
  }
 ],
 "metadata": {
  "kernelspec": {
   "display_name": "Python 3 (ipykernel)",
   "language": "python",
   "name": "python3"
  },
  "language_info": {
   "codemirror_mode": {
    "name": "ipython",
    "version": 3
   },
   "file_extension": ".py",
   "mimetype": "text/x-python",
   "name": "python",
   "nbconvert_exporter": "python",
   "pygments_lexer": "ipython3",
   "version": "3.11.5"
  }
 },
 "nbformat": 4,
 "nbformat_minor": 5
}
